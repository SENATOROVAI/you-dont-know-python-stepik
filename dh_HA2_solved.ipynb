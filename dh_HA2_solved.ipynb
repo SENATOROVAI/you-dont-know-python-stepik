{
 "cells": [
  {
   "cell_type": "markdown",
   "metadata": {},
   "source": [
    "# Домашнее задание 2\n",
    "\n",
    "Вам представлено 10 заданий. Максимальный балл за домашнее задание составляет 12 баллов (10 + 2 бонуса).\n",
    "\n",
    "Весь код для предложенных заданий должен быть записан в оставленных пустых ячейках. Выполненное задание в формате `.ipynb` загрузите в [папку](https://www.dropbox.com/request/qQslpemt53H1WHCxAoJb) на Dropbox. Имя файла должно быть в формате `Фамилия_Имя_ДЗ2.ipynb`. Мы не примаем и не оцениваем работы, высланные по электронной почте или в мессенджерах.\n",
    "\n",
    "### Дедлайн: Декабрь, 15, 23:59 MSC\n",
    "\n",
    "**Поздняя сдача:** вы можете загрузить работу после дедлайна, однако штраф в **2 балла** (из 10) **за каждый день просрочки** будет применен."
   ]
  },
  {
   "cell_type": "markdown",
   "metadata": {},
   "source": [
    "### Задание 1 (0.5)\n",
    "\n",
    "Напишите программу, которая создает список:\n",
    "    \n",
    "* из чисел от `-3` до `9` (включая `9`);\n",
    "* каждое второе число из последовательности от `20` до `-1` (не включая `-1`);\n",
    "* каждое десятое число от `-500` до `80` (включая `80`);\n",
    "* нечетные числа `-40` до `5`.\n",
    "\n",
    "**Вход**\n",
    "\n",
    "Нет входных данных.\n",
    "\n",
    "**Выход**\n",
    "\n",
    "Решение задачи.\n",
    "\n",
    "**Пример**\n",
    "```\n",
    "Пример не может быть предоставлен.\n",
    "```"
   ]
  },
  {
   "cell_type": "code",
   "execution_count": 14,
   "metadata": {},
   "outputs": [
    {
     "name": "stdout",
     "output_type": "stream",
     "text": [
      "[-3, -2, -1, 0, 1, 2, 3, 4, 5, 6, 7, 8, 9]\n",
      "[20, 18, 16, 14, 12, 10, 8, 6, 4, 2, 0]\n",
      "[-500, -490, -480, -470, -460, -450, -440, -430, -420, -410, -400, -390, -380, -370, -360, -350, -340, -330, -320, -310, -300, -290, -280, -270, -260, -250, -240, -230, -220, -210, -200, -190, -180, -170, -160, -150, -140, -130, -120, -110, -100, -90, -80, -70, -60, -50, -40, -30, -20, -10, 0, 10, 20, 30, 40, 50, 60, 70, 80]\n",
      "[-39, -37, -35, -33, -31, -29, -27, -25, -23, -21, -19, -17, -15, -13, -11, -9, -7, -5, -3, -1, 1, 3, 5]\n"
     ]
    }
   ],
   "source": [
    "# ваш код здесь\n",
    "\n",
    "n1 = [*range(-3, 10)]\n",
    "print(n1)\n",
    "\n",
    "n2 = [*range(20, -1, -2)]\n",
    "print(n2)\n",
    "\n",
    "n3 = [*range(-500, 81, 10)]\n",
    "print(n3)\n",
    "\n",
    "n4 = [x + 1 for x in range(-40, 5, 2)]\n",
    "print(n4)"
   ]
  },
  {
   "cell_type": "markdown",
   "metadata": {},
   "source": [
    "### Задание 2 (0.5)\n",
    "\n",
    "Создайте словарь, в котором ключами будут четные числа, которые есть на промежутке `1` от `10`, а значениями словаря будут кубы соотвествующих ключей.\n",
    "\n",
    "**Вход**\n",
    "\n",
    "Нет входных данных.\n",
    "\n",
    "**Выход**\n",
    "\n",
    "Решение задачи.\n",
    "\n",
    "**Пример**\n",
    "```\n",
    "Пример не может быть предоставлен.\n",
    "\n",
    "```"
   ]
  },
  {
   "cell_type": "code",
   "execution_count": 16,
   "metadata": {},
   "outputs": [
    {
     "name": "stdout",
     "output_type": "stream",
     "text": [
      "{2: 8, 4: 64, 6: 216, 8: 512, 10: 1000}\n"
     ]
    }
   ],
   "source": [
    "# ваш код здесь\n",
    "\n",
    "d = {x: x**3 for x in range(2, 11, 2)}\n",
    "print(d)"
   ]
  },
  {
   "cell_type": "markdown",
   "metadata": {},
   "source": [
    "### Задание 3 (0.5)\n",
    "\n",
    "Напишите программу, которая конвертирует строковые значения данного словаря `nums` в числа, там, где это применимо.\n",
    "\n",
    "**Вход**\n",
    "\n",
    "Нет.\n",
    "\n",
    "**Выход**\n",
    "\n",
    "Решение задачи.\n",
    "\n",
    "**Пример**\n",
    "```\n",
    "### Тест 1\n",
    "\n",
    "Выход:\n",
    "\n",
    "{ 'x': 10 , 'y': 20 , 'z': 30, 'p': 40, 'q': 50, 'r': 60}\n",
    "\n",
    "```"
   ]
  },
  {
   "cell_type": "code",
   "execution_count": 21,
   "metadata": {},
   "outputs": [
    {
     "name": "stdout",
     "output_type": "stream",
     "text": [
      "{'x': 10, 'y': 20, 'z': 30, 'p': 40, 'q': 50, 'r': 60}\n"
     ]
    }
   ],
   "source": [
    "nums ={ 'x':'10' , 'y':'20' , 'z':'30', 'p':'40', 'q':'50', 'r':'60'}\n",
    "# ваш код здесь\n",
    "\n",
    "d = dict()\n",
    "for k, v in nums.items():\n",
    "    try:\n",
    "        v = int(v)\n",
    "    except:\n",
    "        pass\n",
    "    d[k] = v\n",
    "\n",
    "print(d)"
   ]
  },
  {
   "cell_type": "markdown",
   "metadata": {},
   "source": [
    "\n",
    "### Задание 4 (1)\n",
    "\n",
    "Вам данные межстрановые данные в виде словаря. Выведите их на экран в следующем формате. ```The list of <<key>>s in the dataset consists of <<value 1>>, <<value 2>>, ..., <<value n>>.```. Каждая пара ключ-значение должны быть отображены с новой строки.\n",
    "\n",
    "\n",
    "**Вход** \n",
    "\n",
    "Нет.\n",
    "\n",
    "**Выход**\n",
    "\n",
    "Решение задачи.\n",
    "\n",
    "**Пример**\n",
    "```\n",
    "### Тест 1\n",
    "\n",
    "Выход:\n",
    "\n",
    "The list of countries in the dataset consists of Russia, Japan, France, Australia.\n",
    "\n",
    "The list of capitals in the dataset consists of Moscow, Tokyo, Paris, Canberra.\n",
    "\n",
    "The list of GDP per capita (US dollars) in the dataset consists of 11000.00, 35200.00, 42600.00, 52905.4.\n",
    "\n",
    "```"
   ]
  },
  {
   "cell_type": "code",
   "execution_count": 105,
   "metadata": {},
   "outputs": [
    {
     "name": "stdout",
     "output_type": "stream",
     "text": [
      "The list of Countrys in the dataset consists of Russia, Japan, France, Australia.\n",
      "The list of Capitals in the dataset consists of Moscow, Tokyo, Paris, Canberra.\n",
      "The list of Gdp per capita (US dollars)s in the dataset consists of 11000.0, 35200.0, 42600.0, 52905.4.\n"
     ]
    }
   ],
   "source": [
    "cross_country_data = {\n",
    "    'Country': ['Russia', 'Japan', 'France', 'Australia'],\n",
    "    'Capital': ['Moscow', 'Tokyo', 'Paris', 'Canberra'],\n",
    "    'Gdp per capita (US dollars)': [11000.00, 35200.00, 42600.00, 52905.4]\n",
    "}\n",
    "#ваш код здесь\n",
    "\n",
    "for k, v in cross_country_data.items():\n",
    "    print(f'The list of {k}s in the dataset consists of ' + ', '.join((str(x) for x in v)) + '.')"
   ]
  },
  {
   "cell_type": "markdown",
   "metadata": {},
   "source": [
    "# Задание 5 (1.5)\n",
    "\n",
    "Напишите функцию `pretty_print`, которая прнимает на вход неограниченное число аргументов и выводит пару аргумент-значение построчно.\n",
    "\n",
    "**Пример**\n",
    "```\n",
    "### Тест 1\n",
    "\n",
    "pretty_print(title=\"The Matrix\", director=\"Wachowski\", year=1999)\n",
    "\n",
    "\n",
    "Выход: \n",
    "\n",
    "    title: The Matrix\n",
    "    director: Wachowski\n",
    "    year: 1999\n",
    "\n",
    "\n",
    "\n",
    "### Тест 2\n",
    "\n",
    "pretty_print(name=\"Anna\", surname =\"Delvey\")\n",
    "\n",
    "\n",
    "Выход: \n",
    "\n",
    "    name: Anna\n",
    "    surname: Delvey\n",
    "\n",
    "\n",
    "```"
   ]
  },
  {
   "cell_type": "code",
   "execution_count": 107,
   "metadata": {},
   "outputs": [
    {
     "name": "stdout",
     "output_type": "stream",
     "text": [
      "title: The Matrix\n",
      "director: Wachowski\n",
      "year: 1999\n",
      "name: Anna\n",
      "surname: Delvey\n"
     ]
    }
   ],
   "source": [
    "#ваш код здесь\n",
    "\n",
    "def pretty_print(**kwargs):\n",
    "    for i in kwargs:\n",
    "        print(f'{i}: {kwargs[i]}')\n",
    "\n",
    "pretty_print(title=\"The Matrix\", director=\"Wachowski\", year=1999)\n",
    "pretty_print(name=\"Anna\", surname =\"Delvey\")"
   ]
  },
  {
   "cell_type": "markdown",
   "metadata": {},
   "source": [
    "# Задание 6 (2 балла)\n",
    "\n",
    "Руководство местной кофейни для программистов решило модернизировать систему заказа кофе.\n",
    "\n",
    "Для этого им требуется реализовать функцию `order`, которая принимает список предпочтений посетителя в порядке «убывания желания».\n",
    "\n",
    "Согласно положению, каждый напиток в кофейне строго определён рецептом:\n",
    "\n",
    "- Эспрессо готовится из: 1 порции кофейных зерен.\n",
    "- Капучино готовится из: 1 порции кофейных зерен и 3 порций молока.\n",
    "- Макиато готовится из: 2 порций кофейных зерен и 1 порции молока.\n",
    "- Кофе по-венски готовится из: 1 порции кофейных зерен и 2 порций взбитых сливок.\n",
    "- Латте Макиато готовится из: 1 порции кофейных зерен, 2 порций молока и 1 порции взбитых сливок.\n",
    "- Кон Панна готовится из: 1 порции кофейных зерен и 1 порции взбитых сливок.\n",
    "- В глобальной переменной `in_stoc`k содержится словарь, описывающий ингредиенты в наличии. Ключи словаря: `coffee`, `cream`, `milk`.\n",
    "\n",
    "Функция должна вернуть:\n",
    "\n",
    "- название напитка, который будет приготовлен;\n",
    "- сообщение «К сожалению, не можем предложить Вам напиток», если ни одно из предпочтений не может быть приготовлено.\n",
    "- Если заказ, может быть совершён, количество доступных ингредиентов должно соответствующим образом уменьшиться.\n",
    "\n",
    "Примечание\n",
    "В решении не должно быть вызовов требуемых функций\n",
    "\n",
    "```\n",
    "### Тест 1\n",
    "Вход:\n",
    "\n",
    "in_stock = {\"coffee\": 1, \"milk\": 2, \"cream\": 3}\n",
    "print(order(\"Эспрессо\", \"Капучино\", \"Макиато\", \"Кофе по-венски\", \"Латте Макиато\", \"Кон Панна\"))\n",
    "print(order(\"Эспрессо\", \"Капучино\", \"Макиато\", \"Кофе по-венски\", \"Латте Макиато\", \"Кон Панна\"))\n",
    "\n",
    "Выход:\n",
    "\n",
    "Эспрессо\n",
    "К сожалению, не можем предложить Вам напиток\n",
    "\n",
    "### Тест 2\n",
    "Вход:\n",
    "\n",
    "in_stock = {\"coffee\": 4, \"milk\": 4, \"cream\": 0}\n",
    "print(order(\"Капучино\", \"Макиато\", \"Эспрессо\"))\n",
    "print(order(\"Капучино\", \"Макиато\", \"Эспрессо\"))\n",
    "print(order(\"Капучино\", \"Макиато\", \"Эспрессо\"))\n",
    "\n",
    "Выход: \n",
    "\n",
    "Капучино\n",
    "Макиато\n",
    "Эспрессо\n",
    "\n",
    "```"
   ]
  },
  {
   "cell_type": "code",
   "execution_count": 108,
   "metadata": {},
   "outputs": [],
   "source": [
    "ingredients = {\n",
    "    \"Эспрессо\": {'coffee': 1},\n",
    "    \"Капучино\": {'coffee': 1, 'milk': 3},\n",
    "    \"Макиато\": {'coffee': 2, 'milk': 1},\n",
    "    \"Кофе по-венски\": {'coffee': 1, 'cream': 2},\n",
    "    \"Латте Макиато\": {'coffee': 1, 'milk': 2, 'cream': 1},\n",
    "    \"Кон Панна\": {'coffee': 1, 'cream': 1},\n",
    "}\n",
    "\n",
    "def order(*preferrences):\n",
    "    for pref in preferrences:\n",
    "        sufficient_resources = all((\n",
    "                                    in_stock[ingred] >= amount \n",
    "                                for ingred, amount in ingredients[pref].items()))              \n",
    "        if not sufficient_resources:\n",
    "            continue\n",
    "        for res in ingredients[pref].keys():\n",
    "            in_stock[res] -= ingredients[pref][res]\n",
    "        return pref      \n",
    "    return 'К сожалению, не можем предложить Вам напиток'\n",
    "\n",
    "in_stock = {}\n"
   ]
  },
  {
   "cell_type": "markdown",
   "metadata": {},
   "source": [
    "# Задание 7 (2 балла)\n",
    "\n",
    "Напишите функцию `make_matrix`, которая создаёт, заполняет и возвращает матрицу заданного размера.\n",
    "\n",
    "Параметры функции:\n",
    "\n",
    "- size — кортеж (ширина, высота) или одно число (для создания квадратной матрицы);\n",
    "- value — значение элементов списка (по-умолчанию 0).\n",
    "\n",
    "\n",
    "```\n",
    "### Тест 1\n",
    "\n",
    "result = make_matrix(3)\n",
    "\n",
    "Выход: \n",
    "\n",
    "result = [\n",
    "    [0, 0, 0],\n",
    "    [0, 0, 0],\n",
    "    [0, 0, 0]\n",
    "]\n",
    "\n",
    "### Тест 2\n",
    "\n",
    "result = make_matrix((4, 2), 1)\n",
    "\n",
    "Выход: \n",
    "\n",
    "result = [\n",
    "    [1, 1, 1, 1],\n",
    "    [1, 1, 1, 1]\n",
    "]\n",
    "\n",
    "\n",
    "```"
   ]
  },
  {
   "cell_type": "code",
   "execution_count": 109,
   "metadata": {},
   "outputs": [
    {
     "name": "stdout",
     "output_type": "stream",
     "text": [
      "[[0, 0, 0], [0, 0, 0], [0, 0, 0]]\n",
      "[[1, 1, 1, 1], [1, 1, 1, 1]]\n"
     ]
    }
   ],
   "source": [
    "#ваш код здесь\n",
    "\n",
    "def make_matrix(size, value=0):\n",
    "    if type(size) == int:\n",
    "        rows = size\n",
    "        cols = size\n",
    "    else:\n",
    "        rows = size[1]\n",
    "        cols = size[0]\n",
    "\n",
    "    return [\n",
    "        [\n",
    "            value for c in range(cols)\n",
    "        ] for r in range(rows)\n",
    "    ]\n",
    "\n",
    "result = make_matrix(3)\n",
    "print(result)\n",
    "\n",
    "result = make_matrix((4, 2), 1)\n",
    "print(result)"
   ]
  },
  {
   "cell_type": "markdown",
   "metadata": {},
   "source": [
    "# Задание 8 (2)\n",
    "\n",
    "Программа считывает URL-адрес сайта. Определите, находится ли сайт в международном домене, и если нет, к какой стране он относится.\n",
    "\n",
    "Если домен является международным, выведите на экран слово «Международный». Если домен является национальным, выведите на экран название страны.\n",
    "\n",
    "Варианты доменов, которые могут быть на входе:\n",
    "\n",
    "●             .uk Великобритания\n",
    "\n",
    "●             .de Германия\n",
    "\n",
    "●             .il Израиль\n",
    "\n",
    "●             .in Индия\n",
    "\n",
    "●             .kz Казахстан\n",
    "\n",
    "●             .mm Мьянма\n",
    "\n",
    "●             .om Оман\n",
    "\n",
    "●             .ru Россия\n",
    "\n",
    "●             .uz Узбекистан\n",
    "\n",
    "●             .et Эфиопия\n",
    "\n",
    "●             .com Международный\n",
    "\n",
    "●             .org Международный\n",
    "\n",
    "●             .net Международный\n",
    "\n",
    "\n",
    "**Вход:**\n",
    "\n",
    "Строка с URL сайта.\n",
    "\n",
    "**Выход:**\n",
    "\n",
    "Категория домена в виде строки\n",
    "\n",
    "```\n",
    "\n",
    "### Тест 1 \n",
    "\n",
    "Вход:\n",
    "\n",
    "https://vk.com\n",
    "\n",
    "Выход:\n",
    "\n",
    "Международный\n",
    "\n",
    "```"
   ]
  },
  {
   "cell_type": "code",
   "execution_count": 110,
   "metadata": {},
   "outputs": [
    {
     "name": "stdout",
     "output_type": "stream",
     "text": [
      "Международный\n"
     ]
    }
   ],
   "source": [
    "#ваш код здесь\n",
    "\n",
    "def resolve_domain(url: str):\n",
    "    domains = {\n",
    "        'uk': 'Великобритания',\n",
    "        'de': 'Германия',\n",
    "        'il': 'Израиль',\n",
    "        'in': 'Индия',\n",
    "        'kz': 'Казахстан',\n",
    "        'mm': 'Мьянма',\n",
    "        'om': 'Оман',\n",
    "        'ru': 'Россия',\n",
    "        'uz': 'Узбекистан',\n",
    "        'et': 'Эфиопия',\n",
    "        'com': 'Международный',\n",
    "        'org': 'Международный',\n",
    "        'net': 'Международный',\n",
    "    }\n",
    "    if '://' in url:\n",
    "        url = url.split('://', 1)[1]\n",
    "    domain = url.split('/', 1)[0].rsplit('.', 1)[1]\n",
    "    if domain in domains:\n",
    "        print(domains[domain])\n",
    "    else:\n",
    "        print('Unknown domain')\n",
    "\n",
    "resolve_domain('https://vk.com')"
   ]
  },
  {
   "cell_type": "markdown",
   "metadata": {},
   "source": [
    "# Задание 9 (1)\n",
    "\n",
    "Напишите функцию для определения количества гласных в строке (выдача - словарь). Функция должна поддерживать как кириллицу, так и латиницу.\n",
    "\n",
    "```\n",
    "### Тест 1\n",
    "our_function('Hello! How are you today?')\n",
    "\n",
    "Выход:\n",
    "\n",
    "{'a': 2, 'e': 2, 'i': 0, 'o': 4, 'u': 1}\n",
    "```"
   ]
  },
  {
   "cell_type": "code",
   "execution_count": 116,
   "metadata": {},
   "outputs": [
    {
     "name": "stdout",
     "output_type": "stream",
     "text": [
      "{'a': 2, 'e': 2, 'i': 0, 'o': 4, 'u': 1}\n"
     ]
    }
   ],
   "source": [
    "#ваш код здесь\n",
    "\n",
    "def our_function(s, is_cyrillic=False):\n",
    "    eng_vowels = 'aeiou'\n",
    "    cyr_vowels = 'аяуюоеёэиы'\n",
    "\n",
    "    if is_cyrillic:\n",
    "        all_vowels = cyr_vowels\n",
    "    else:\n",
    "        all_vowels = eng_vowels\n",
    "\n",
    "    vowels = {k:0 for k in all_vowels}\n",
    "    \n",
    "    for letter in s:\n",
    "        if letter in vowels:\n",
    "            vowels[letter] += 1\n",
    "    print(vowels)\n",
    "\n",
    "\n",
    "our_function('Hello! How are you today?')"
   ]
  },
  {
   "cell_type": "markdown",
   "metadata": {},
   "source": [
    "# Задание 10 (1)\n",
    "\n",
    "Два слова являются анаграммами, если состоят из одинаковых букв. Напишите функцию, которая принимает на вход два словами и считает, являеются эти слова анаграммами.\n",
    "\n",
    "```\n",
    "###  Тест 1\n",
    "print(is_anagrams(\"binary\", \"brainy\")) \n",
    "\n",
    "Выход:\n",
    "\n",
    "True\n",
    "\n",
    "\n",
    "```"
   ]
  },
  {
   "cell_type": "code",
   "execution_count": 119,
   "metadata": {},
   "outputs": [
    {
     "name": "stdout",
     "output_type": "stream",
     "text": [
      "True\n"
     ]
    }
   ],
   "source": [
    "#ваш код здесь\n",
    "\n",
    "def is_anagrams(s1, s2):\n",
    "    return set(s1) == set(s2)\n",
    "\n",
    "print(is_anagrams(\"binary\", \"brainy\")) "
   ]
  }
 ],
 "metadata": {
  "kernelspec": {
   "display_name": "Python 3",
   "language": "python",
   "name": "python3"
  },
  "language_info": {
   "codemirror_mode": {
    "name": "ipython",
    "version": 3
   },
   "file_extension": ".py",
   "mimetype": "text/x-python",
   "name": "python",
   "nbconvert_exporter": "python",
   "pygments_lexer": "ipython3",
   "version": "3.10.6"
  },
  "vscode": {
   "interpreter": {
    "hash": "916dbcbb3f70747c44a77c7bcd40155683ae19c65e1c03b4aa3499c5328201f1"
   }
  }
 },
 "nbformat": 4,
 "nbformat_minor": 4
}
